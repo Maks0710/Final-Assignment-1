{
 "cells": [
  {
   "cell_type": "markdown",
   "id": "37e74b84",
   "metadata": {},
   "source": [
    "# Data Science Tools and Ecosystem"
   ]
  },
  {
   "cell_type": "markdown",
   "id": "c19afbfc",
   "metadata": {},
   "source": [
    "In this notebook, Data Science Tools and Ecosystem are summarized."
   ]
  },
  {
   "cell_type": "markdown",
   "id": "8724786c",
   "metadata": {},
   "source": [
    "# Objectives\n",
    "* List popular programming languages used by Data Scientists \n",
    "* List commonly used libraries by Data Scientists\n",
    "* List some open source tools used in Data Science\n",
    "* Use a simple arithmetic expression to multiply and add integers\n",
    "* Use a simple arithmetic expression for unit conversion"
   ]
  },
  {
   "cell_type": "markdown",
   "id": "48d90ab7",
   "metadata": {},
   "source": [
    "Some of the popular languages that Data Scientists use are: \n",
    "1. R  \n",
    "2. Python  \n",
    "3. Julia  \n",
    "4. SQL"
   ]
  },
  {
   "cell_type": "markdown",
   "id": "e5670ef9",
   "metadata": {},
   "source": [
    "Some of the commonly used libraries used by Data Scientists include: \n",
    "1. NumPy\n",
    "2. MatPlotLib\n",
    "3. Pandas\n",
    "4. Scikit"
   ]
  },
  {
   "cell_type": "markdown",
   "id": "382d3132",
   "metadata": {},
   "source": [
    "| Data Science Tools |\n",
    "| --- |\n",
    "| JupyterLab |\n",
    "| Visual Studio Code |\n",
    "| RStudio |"
   ]
  },
  {
   "cell_type": "markdown",
   "id": "2bc1492d",
   "metadata": {},
   "source": [
    "### Below are a few examples of evaluating arithmetic expressions in Python\n"
   ]
  },
  {
   "cell_type": "code",
   "execution_count": 3,
   "id": "ab81d47f",
   "metadata": {},
   "outputs": [
    {
     "data": {
      "text/plain": [
       "17"
      ]
     },
     "execution_count": 3,
     "metadata": {},
     "output_type": "execute_result"
    }
   ],
   "source": [
    "\"This a simple arithmetic expression to mutiply then add integers\"\n",
    "(3*4)+5"
   ]
  },
  {
   "cell_type": "code",
   "execution_count": 9,
   "id": "64b7d723",
   "metadata": {},
   "outputs": [
    {
     "data": {
      "text/plain": [
       "3.3333333333333335"
      ]
     },
     "execution_count": 9,
     "metadata": {},
     "output_type": "execute_result"
    }
   ],
   "source": [
    "\"This will convert 200 minutes to hours by diving by 60\"\n",
    "200/60 "
   ]
  },
  {
   "cell_type": "markdown",
   "id": "c14fcfb8",
   "metadata": {},
   "source": [
    "## Author\n",
    "Maksud Fayzullaev"
   ]
  },
  {
   "cell_type": "code",
   "execution_count": null,
   "id": "8260c84b",
   "metadata": {},
   "outputs": [],
   "source": []
  }
 ],
 "metadata": {
  "kernelspec": {
   "display_name": "Python 3 (ipykernel)",
   "language": "python",
   "name": "python3"
  },
  "language_info": {
   "codemirror_mode": {
    "name": "ipython",
    "version": 3
   },
   "file_extension": ".py",
   "mimetype": "text/x-python",
   "name": "python",
   "nbconvert_exporter": "python",
   "pygments_lexer": "ipython3",
   "version": "3.11.5"
  }
 },
 "nbformat": 4,
 "nbformat_minor": 5
}
